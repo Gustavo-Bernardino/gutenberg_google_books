{
 "cells": [
  {
   "cell_type": "markdown",
   "id": "005d399e-907f-4f40-9493-220592389c51",
   "metadata": {},
   "source": [
    "# Few-Shot Training"
   ]
  },
  {
   "cell_type": "code",
   "execution_count": 2,
   "id": "c59a2ef1-80f0-4029-914c-f02c5b2e9c9b",
   "metadata": {},
   "outputs": [
    {
     "name": "stderr",
     "output_type": "stream",
     "text": [
      "c:\\Users\\gbernar\\OneDrive - MORNINGSTAR INC\\HF\\.venv\\Lib\\site-packages\\tqdm\\auto.py:21: TqdmWarning: IProgress not found. Please update jupyter and ipywidgets. See https://ipywidgets.readthedocs.io/en/stable/user_install.html\n",
      "  from .autonotebook import tqdm as notebook_tqdm\n"
     ]
    }
   ],
   "source": [
    "import os\n",
    "import re\n",
    "import pandas as pd\n",
    "from datetime import date\n",
    "from setfit import SetFitModel\n",
    "from setfit import sample_dataset\n",
    "from datasets import Dataset\n",
    "from setfit import TrainingArguments\n",
    "from setfit import Trainer\n",
    "today = date.today().strftime('%Y-%m-%d')"
   ]
  },
  {
   "cell_type": "markdown",
   "id": "e12bc4c6-73e1-4b9e-a90a-c1aa795c3cbc",
   "metadata": {},
   "source": [
    "#Multilingual model\n",
    "model = SetFitModel.from_pretrained(\"BAAI/bge-m3\")"
   ]
  },
  {
   "cell_type": "code",
   "execution_count": 3,
   "id": "d8a4833e-f2c8-4690-a6b1-5018e8fc9c71",
   "metadata": {},
   "outputs": [
    {
     "name": "stderr",
     "output_type": "stream",
     "text": [
      "model_head.pkl not found on HuggingFace Hub, initialising classification head with random weights. You should TRAIN this model on a downstream task to use it for predictions and inference.\n"
     ]
    }
   ],
   "source": [
    "# English smaller model\n",
    "model = SetFitModel.from_pretrained(\"BAAI/bge-small-en-v1.5\")"
   ]
  },
  {
   "cell_type": "code",
   "execution_count": 49,
   "id": "ea41f596-4bfd-4c46-9cea-e3d69643a33a",
   "metadata": {},
   "outputs": [
    {
     "data": {
      "text/plain": [
       "['Custodian_Fee-2024-06-18-df_FEWSHOT.csv',\n",
       " 'Custodian_Fee-2024-06-18-df_FEWSHOT.xlsx',\n",
       " 'Fund_Investor-2024-06-18-df6_FEWSHOT.csv',\n",
       " 'Fund_Investor-2024-06-18-df6_FEWSHOT.xlsx',\n",
       " 'Investment_Criteria-2024-06-18-df_FEWSHOT.csv',\n",
       " 'Investment_Criteria-2024-06-18-df_FEWSHOT.xlsx']"
      ]
     },
     "execution_count": 49,
     "metadata": {},
     "output_type": "execute_result"
    }
   ],
   "source": [
    "files = os.listdir(os.getcwd()+\"\\\\Fewshot_Labelled\")\n",
    "files"
   ]
  },
  {
   "cell_type": "code",
   "execution_count": 50,
   "id": "ff332e55-8e02-4ff8-a87c-124ce02e4821",
   "metadata": {},
   "outputs": [],
   "source": [
    "def get_most_recent_file(folder_path):\n",
    "    # Get a list of files in the folder\n",
    "    files = os.listdir(folder_path)\n",
    "    \n",
    "    # Full paths of the files\n",
    "    full_paths = [os.path.join(folder_path, file) for file in files]\n",
    "    \n",
    "    # Filter out directories, leaving only files\n",
    "    full_paths = [path for path in full_paths if os.path.isfile(path)]\n",
    "    \n",
    "    # Get the most recent file by comparing modification times\n",
    "    most_recent_file = max(full_paths, key=os.path.getmtime)\n",
    "    return most_recent_file"
   ]
  },
  {
   "cell_type": "code",
   "execution_count": 51,
   "id": "d04161b7-d3f7-46d6-afa4-eaa4bd9f4681",
   "metadata": {},
   "outputs": [],
   "source": [
    "file_path = get_most_recent_file(os.getcwd()+\"\\\\Fewshot_Labelled\")"
   ]
  },
  {
   "cell_type": "code",
   "execution_count": 53,
   "id": "a24a4a58-dc47-4fd0-94e1-196b828dc057",
   "metadata": {},
   "outputs": [
    {
     "data": {
      "text/plain": [
       "'C:\\\\Users\\\\gbernar\\\\OneDrive - MORNINGSTAR INC\\\\Aristotle_SetFit\\\\Fewshot_Labelled\\\\Investment_Criteria-2024-06-18-df_FEWSHOT.csv'"
      ]
     },
     "execution_count": 53,
     "metadata": {},
     "output_type": "execute_result"
    }
   ],
   "source": [
    "file_path"
   ]
  },
  {
   "cell_type": "code",
   "execution_count": 54,
   "id": "dfd73833-158c-4700-93d2-a38f577a1a5e",
   "metadata": {},
   "outputs": [],
   "source": [
    "df=pd.read_csv(file_path)"
   ]
  },
  {
   "cell_type": "code",
   "execution_count": 55,
   "id": "cbfcba6b-7749-48fb-8110-f2da417ecf0d",
   "metadata": {},
   "outputs": [],
   "source": [
    "# Step 2: Convert the pandas DataFrame to a Hugging Face Dataset\n",
    "dataset = Dataset.from_pandas(df)\n",
    "train_test_split = dataset.train_test_split(test_size=0.2, seed=42)\n",
    "train_dataset = train_test_split['train']\n",
    "test_dataset = train_test_split['test']"
   ]
  },
  {
   "cell_type": "code",
   "execution_count": 58,
   "id": "34d0077b-271d-4f2f-8c3f-bac6053e460a",
   "metadata": {},
   "outputs": [
    {
     "name": "stderr",
     "output_type": "stream",
     "text": [
      "C:\\Users\\gbernar\\OneDrive - MORNINGSTAR INC\\VENV\\Lib\\site-packages\\setfit\\data.py:154: DeprecationWarning: DataFrameGroupBy.apply operated on the grouping columns. This behavior is deprecated, and in a future version of pandas the grouping columns will be excluded from the operation. Either pass `include_groups=False` to exclude the groupings or explicitly select the grouping columns after groupby to silence this warning.\n",
      "  df = df.apply(lambda x: x.sample(min(num_samples, len(x)), random_state=seed))\n"
     ]
    }
   ],
   "source": [
    "# Sample the dataset\n",
    "train_dataset = sample_dataset(dataset, label_column=\"label\", num_samples=130)\n",
    "model.labels = [0, 1]"
   ]
  },
  {
   "cell_type": "code",
   "execution_count": 42,
   "id": "02ba6b2a-d767-4788-97d6-19f363109cc1",
   "metadata": {},
   "outputs": [],
   "source": [
    "args = TrainingArguments(\n",
    "    batch_size=32,\n",
    "    num_epochs=1,\n",
    ") \n",
    "args.eval_strategy = args.evaluation_strategy #add update of args for evaluate as eval_strategy was deprecated."
   ]
  },
  {
   "cell_type": "code",
   "execution_count": 43,
   "id": "5f6b508d-e2bb-46c5-a859-23dc9d0b688d",
   "metadata": {},
   "outputs": [],
   "source": [
    "# Activate Trainer"
   ]
  },
  {
   "cell_type": "code",
   "execution_count": 44,
   "id": "98f1d7e1-a07e-4a6f-88ab-f4eed0c4e482",
   "metadata": {},
   "outputs": [
    {
     "data": {
      "application/vnd.jupyter.widget-view+json": {
       "model_id": "03577c1914db421d92572313fa7a5de9",
       "version_major": 2,
       "version_minor": 0
      },
      "text/plain": [
       "Map:   0%|          | 0/159 [00:00<?, ? examples/s]"
      ]
     },
     "metadata": {},
     "output_type": "display_data"
    }
   ],
   "source": [
    "trainer = Trainer(\n",
    "    model=model,\n",
    "    args=args,\n",
    "    train_dataset=train_dataset,\n",
    ")"
   ]
  },
  {
   "cell_type": "code",
   "execution_count": null,
   "id": "8d9f556b-2493-49ac-afa6-06f27dbfc667",
   "metadata": {},
   "outputs": [],
   "source": [
    "trainer.train()"
   ]
  },
  {
   "cell_type": "code",
   "execution_count": null,
   "id": "a96dd71f-4795-4823-9b3e-676378a77335",
   "metadata": {},
   "outputs": [],
   "source": [
    "trainer.evaluate(test_dataset)"
   ]
  },
  {
   "cell_type": "code",
   "execution_count": null,
   "id": "9ceeab43-f8ef-4367-8aeb-7d184219042b",
   "metadata": {},
   "outputs": [],
   "source": [
    "model.save_pretrained(f\"Description_Selection\")"
   ]
  }
 ],
 "metadata": {
  "kernelspec": {
   "display_name": ".venv",
   "language": "python",
   "name": "python3"
  },
  "language_info": {
   "codemirror_mode": {
    "name": "ipython",
    "version": 3
   },
   "file_extension": ".py",
   "mimetype": "text/x-python",
   "name": "python",
   "nbconvert_exporter": "python",
   "pygments_lexer": "ipython3",
   "version": "3.11.9"
  }
 },
 "nbformat": 4,
 "nbformat_minor": 5
}
