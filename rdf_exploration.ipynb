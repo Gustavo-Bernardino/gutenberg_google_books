{
 "cells": [
  {
   "cell_type": "code",
   "execution_count": 2,
   "metadata": {},
   "outputs": [],
   "source": [
    "from rdflib import Graph\n"
   ]
  },
  {
   "cell_type": "code",
   "execution_count": 9,
   "metadata": {},
   "outputs": [
    {
     "data": {
      "text/plain": [
       "<Graph identifier=N1bddbb40f5ed4d959710ba42b34f1713 (<class 'rdflib.graph.Graph'>)>"
      ]
     },
     "execution_count": 9,
     "metadata": {},
     "output_type": "execute_result"
    }
   ],
   "source": [
    "\n",
    "\n",
    "# Create a Graph object\n",
    "g = Graph()\n",
    "\n",
    "# Load RDF data from a file\n",
    "g.parse(\"pg1.rdf\", format=\"xml\")  # Replace \"xml\" with the appropriate format if needed\n"
   ]
  },
  {
   "cell_type": "code",
   "execution_count": 11,
   "metadata": {},
   "outputs": [
    {
     "data": {
      "text/plain": [
       "204"
      ]
     },
     "execution_count": 11,
     "metadata": {},
     "output_type": "execute_result"
    }
   ],
   "source": [
    "len(g)"
   ]
  },
  {
   "cell_type": "code",
   "execution_count": 12,
   "metadata": {},
   "outputs": [
    {
     "name": "stdout",
     "output_type": "stream",
     "text": [
      "Title: The Declaration of Independence of the United States of America\n",
      "Author: None\n",
      "Descriptions:\n",
      "- Wikipedia page about this book: https://en.wikipedia.org/wiki/United_States_Declaration_of_Independence\n",
      "- This is the original PG edition.\n",
      "See also our revised edition: #16780\n",
      "See also #300\n",
      "- Reading ease score: 52.1 (10th to 12th grade). Somewhat difficult to read.\n",
      "- en.wikipedia\n"
     ]
    }
   ],
   "source": [
    "from rdflib import Graph, Namespace\n",
    "\n",
    "# Load the RDF graph\n",
    "g = Graph()\n",
    "g.parse(\"pg1.rdf\", format=\"xml\")  # Replace with the path to your RDF file\n",
    "\n",
    "# Define namespaces\n",
    "DCTERMS = Namespace(\"http://purl.org/dc/terms/\")\n",
    "PGTERMS = Namespace(\"http://www.gutenberg.org/2009/pgterms/\")\n",
    "\n",
    "# Extract Title\n",
    "title = None\n",
    "for t in g.objects(None, DCTERMS.title):\n",
    "    title = t\n",
    "    break  # Assume only one title\n",
    "\n",
    "# Extract Author\n",
    "author_name = None\n",
    "for agent in g.subjects(DCTERMS.creator, None):\n",
    "    for name in g.objects(agent, PGTERMS.name):\n",
    "        author_name = name\n",
    "        break  # Assume only one author\n",
    "\n",
    "# Extract Descriptions\n",
    "descriptions = []\n",
    "for desc in g.objects(None, DCTERMS.description):\n",
    "    descriptions.append(desc)\n",
    "\n",
    "# Print the extracted data\n",
    "print(f\"Title: {title}\")\n",
    "print(f\"Author: {author_name}\")\n",
    "print(\"Descriptions:\")\n",
    "for description in descriptions:\n",
    "    print(f\"- {description}\")\n"
   ]
  },
  {
   "cell_type": "code",
   "execution_count": 13,
   "metadata": {},
   "outputs": [
    {
     "data": {
      "text/plain": [
       "'c:\\\\Users\\\\gbernar\\\\OneDrive - MORNINGSTAR INC\\\\HF'"
      ]
     },
     "execution_count": 13,
     "metadata": {},
     "output_type": "execute_result"
    }
   ],
   "source": [
    "pwd\n"
   ]
  },
  {
   "cell_type": "code",
   "execution_count": 14,
   "metadata": {},
   "outputs": [
    {
     "name": "stdout",
     "output_type": "stream",
     "text": [
      "Error processing file c:\\Users\\gbernar\\OneDrive - MORNINGSTAR INC\\HF\\1\\pg1.rdf: 'xml.etree.ElementTree.Element' object has no attribute 'nsmap'\n"
     ]
    }
   ],
   "source": [
    "import os\n",
    "import xml.etree.ElementTree as ET\n",
    "\n",
    "# Base directory where the folders are located\n",
    "base_dir = 'c:\\\\Users\\\\gbernar\\\\OneDrive - MORNINGSTAR INC\\\\HF'\n",
    "\n",
    "# List to store extracted data\n",
    "data = []\n",
    "\n",
    "# Iterate over folder numbers\n",
    "for folder_number in range(1, 2):  # 1 to 90907 inclusive\n",
    "    folder_path = os.path.join(base_dir, str(folder_number))\n",
    "    for file_number in range(1, 2):  # 1 to 90907 inclusive\n",
    "        file_name = f\"pg{file_number}.rdf\"\n",
    "        file_path = os.path.join(folder_path, file_name)\n",
    "\n",
    "        if not os.path.isfile(file_path):\n",
    "            continue  # Skip if the file does not exist\n",
    "\n",
    "        try:\n",
    "            # Parse the RDF file\n",
    "            tree = ET.parse(file_path)\n",
    "            root = tree.getroot()\n",
    "\n",
    "            # Extract relevant information\n",
    "            author = root.find(\".//pgterms:agent/pgterms:name\", namespaces=root.nsmap)\n",
    "            title = root.find(\".//dcterms:title\", namespaces=root.nsmap)\n",
    "            description_elements = root.findall(\".//dcterms:description\", namespaces=root.nsmap)\n",
    "            value_elements = root.findall(\".//rdf:value\", namespaces=root.nsmap)\n",
    "\n",
    "            # Handle cases where the tags may be missing\n",
    "            author = author.text if author is not None else None\n",
    "            title = title.text if title is not None else None\n",
    "            descriptions = [desc.text for desc in description_elements if desc.text]\n",
    "            values = [val.text for val in value_elements if val.text]\n",
    "\n",
    "            # Append extracted information to the data list\n",
    "            data.append({\n",
    "                \"author\": author,\n",
    "                \"title\": title,\n",
    "                \"descriptions\": descriptions,\n",
    "                \"values\": values\n",
    "            })\n",
    "        except Exception as e:\n",
    "            print(f\"Error processing file {file_path}: {e}\")\n",
    "\n",
    "# Now `data` contains the list of extracted information\n",
    "# You can save or process it further as needed\n"
   ]
  },
  {
   "cell_type": "code",
   "execution_count": null,
   "metadata": {},
   "outputs": [],
   "source": [
    "import os\n",
    "import xml.etree.ElementTree as ET\n",
    "\n",
    "# Namespace mapping\n",
    "namespaces = {\n",
    "    'rdf': 'http://www.w3.org/1999/02/22-rdf-syntax-ns#',\n",
    "    'dcterms': 'http://purl.org/dc/terms/',\n",
    "    'pgterms': 'http://www.gutenberg.org/2009/pgterms/'\n",
    "}\n",
    "\n",
    "# Data storage\n",
    "data = []\n",
    "\n",
    "# Loop through folders and files\n",
    "for folder_number in range(1, 2):\n",
    "    folder_name = str(folder_number)\n",
    "    for file_number in range(1,2):\n",
    "        file_name = f\"pg{file_number}.rdf\"\n",
    "        file_path = os.path.join(folder_name, file_name)\n",
    "        \n",
    "        if os.path.exists(file_path):\n",
    "            try:\n",
    "                tree = ET.parse(file_path)\n",
    "                root = tree.getroot()\n",
    "\n",
    "                # Extract data\n",
    "                title = root.find('.//dcterms:title', namespaces)\n",
    "                description = root.find('.//dcterms:description', namespaces)\n",
    "                creator = root.find('.//dcterms:creator/pgterms:agent/pgterms:name', namespaces)\n",
    "                subjects = root.findall('.//dcterms:subject/rdf:Description/rdf:value', namespaces)\n",
    "\n",
    "                # Store the extracted data\n",
    "                record = {\n",
    "                    'title': title.text if title is not None else None,\n",
    "                    'description': description.text if description is not None else None,\n",
    "                    'author': creator.text if creator is not None else None,\n",
    "                    'subjects': [subject.text for subject in subjects if subject is not None]\n",
    "                }\n",
    "                data.append(record)\n",
    "            \n",
    "            except ET.ParseError as e:\n",
    "                print(f\"Failed to parse {file_path}: {e}\")\n",
    "            except Exception as e:\n",
    "                print(f\"Error processing {file_path}: {e}\")\n",
    "\n",
    "# Now, `data` contains all the extracted information.\n"
   ]
  },
  {
   "cell_type": "code",
   "execution_count": 18,
   "metadata": {},
   "outputs": [
    {
     "data": {
      "text/plain": [
       "[{'title': 'The Declaration of Independence of the United States of America',\n",
       "  'description': 'Wikipedia page about this book: https://en.wikipedia.org/wiki/United_States_Declaration_of_Independence',\n",
       "  'author': 'Jefferson, Thomas',\n",
       "  'subjects': ['United States -- History -- Revolution, 1775-1783 -- Sources',\n",
       "   'United States. Declaration of Independence',\n",
       "   'E201',\n",
       "   'JK']}]"
      ]
     },
     "execution_count": 18,
     "metadata": {},
     "output_type": "execute_result"
    }
   ],
   "source": [
    "data"
   ]
  },
  {
   "cell_type": "code",
   "execution_count": null,
   "metadata": {},
   "outputs": [],
   "source": [
    "data"
   ]
  }
 ],
 "metadata": {
  "kernelspec": {
   "display_name": ".venv",
   "language": "python",
   "name": "python3"
  },
  "language_info": {
   "codemirror_mode": {
    "name": "ipython",
    "version": 3
   },
   "file_extension": ".py",
   "mimetype": "text/x-python",
   "name": "python",
   "nbconvert_exporter": "python",
   "pygments_lexer": "ipython3",
   "version": "3.11.9"
  }
 },
 "nbformat": 4,
 "nbformat_minor": 2
}
